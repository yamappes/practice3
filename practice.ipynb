{
 "cells": [
  {
   "cell_type": "markdown",
   "id": "6d63a94e-2335-43ca-b9fc-ca93347a11ec",
   "metadata": {},
   "source": [
    "# 担当(村山さん) - 足し算をする関数を定義してください "
   ]
  },
  {
   "cell_type": "code",
   "execution_count": null,
   "id": "0aabe217-4c83-459f-8edb-b23e94c13d3b",
   "metadata": {},
   "outputs": [],
   "source": []
  },
  {
   "cell_type": "code",
   "execution_count": null,
   "id": "78147edb-2d01-423b-9ea0-14cbf2d32c36",
   "metadata": {},
   "outputs": [],
   "source": []
  },
  {
   "cell_type": "code",
   "execution_count": null,
   "id": "40c9a591-ddea-4753-aa2f-c157ae187c64",
   "metadata": {},
   "outputs": [],
   "source": []
  },
  {
   "cell_type": "markdown",
   "id": "70017bae-6c4f-412b-8ff6-06e1cf3134b3",
   "metadata": {},
   "source": [
    "# 担当(杉本さん) - 引き算をする関数を追加してください "
   ]
  },
  {
   "cell_type": "code",
   "execution_count": null,
   "id": "75197d75-87c5-4231-9603-7995335e0bea",
   "metadata": {},
   "outputs": [],
   "source": []
  },
  {
   "cell_type": "code",
   "execution_count": null,
   "id": "782df7dd-175e-45cc-a10e-339722e4bbdf",
   "metadata": {},
   "outputs": [],
   "source": []
  },
  {
   "cell_type": "code",
   "execution_count": null,
   "id": "73ad9f5e-c817-40c9-b32f-13c812d5cc0e",
   "metadata": {},
   "outputs": [],
   "source": []
  },
  {
   "cell_type": "markdown",
   "id": "ad06b4cd-abc0-431f-995f-9e588b1beb21",
   "metadata": {},
   "source": [
    "# 担当(豊田さん) - 掛け算をする関数を追加してください "
   ]
  },
  {
   "cell_type": "code",
   "execution_count": null,
   "id": "50f6e88d-9608-46a4-88c2-7211b942e598",
   "metadata": {},
   "outputs": [],
   "source": []
  },
  {
   "cell_type": "code",
   "execution_count": null,
   "id": "7ac449cd-473d-4a6c-8b91-18034a8a8160",
   "metadata": {},
   "outputs": [],
   "source": []
  },
  {
   "cell_type": "code",
   "execution_count": null,
   "id": "9208ba52-71cb-495e-8786-ddd30e4c815a",
   "metadata": {},
   "outputs": [],
   "source": []
  },
  {
   "cell_type": "markdown",
   "id": "6ff73374-5382-469a-adcc-4541a3b582e7",
   "metadata": {},
   "source": [
    "# 担当(西村さん) - 割り算をする関数を追加してください "
   ]
  },
  {
   "cell_type": "code",
   "execution_count": null,
   "id": "c2f0857b-e159-4800-8747-f5566115f913",
   "metadata": {},
   "outputs": [],
   "source": []
  },
  {
   "cell_type": "code",
   "execution_count": null,
   "id": "73ddf6de-114c-4aea-96a6-aa30ba10c00e",
   "metadata": {},
   "outputs": [],
   "source": []
  },
  {
   "cell_type": "code",
   "execution_count": null,
   "id": "c6a5dcaf-f4a7-4580-9749-7eec150140cc",
   "metadata": {},
   "outputs": [],
   "source": []
  },
  {
   "cell_type": "markdown",
   "id": "60cb8210-d176-4d02-95b1-ed97af2cd225",
   "metadata": {},
   "source": [
    "# 担当(山本) - print()関数を使う "
   ]
  },
  {
   "cell_type": "code",
   "execution_count": null,
   "id": "a2717adf-7baf-420a-83a6-1c1cc2649128",
   "metadata": {},
   "outputs": [],
   "source": []
  },
  {
   "cell_type": "code",
   "execution_count": null,
   "id": "18cc70f6-f233-4f8a-a70d-f66176449dcb",
   "metadata": {},
   "outputs": [],
   "source": []
  },
  {
   "cell_type": "code",
   "execution_count": null,
   "id": "d34e82ac-e5c9-496a-b1c4-02f3421d7995",
   "metadata": {},
   "outputs": [],
   "source": []
  },
  {
   "cell_type": "code",
   "execution_count": null,
   "id": "a85b1c19-417a-418d-9c09-365112f5c2ad",
   "metadata": {},
   "outputs": [],
   "source": []
  }
 ],
 "metadata": {
  "kernelspec": {
   "display_name": "Python 3 (ipykernel)",
   "language": "python",
   "name": "python3"
  },
  "language_info": {
   "codemirror_mode": {
    "name": "ipython",
    "version": 3
   },
   "file_extension": ".py",
   "mimetype": "text/x-python",
   "name": "python",
   "nbconvert_exporter": "python",
   "pygments_lexer": "ipython3",
   "version": "3.8.12"
  }
 },
 "nbformat": 4,
 "nbformat_minor": 5
}
