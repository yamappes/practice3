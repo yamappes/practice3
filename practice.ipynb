{
 "cells": [
  {
   "cell_type": "markdown",
   "id": "6d63a94e-2335-43ca-b9fc-ca93347a11ec",
   "metadata": {},
   "source": [
    "# 担当(村山さん) - 足し算をする関数を定義してください "
   ]
  },
  {
   "cell_type": "code",
   "execution_count": 1,
   "id": "0aabe217-4c83-459f-8edb-b23e94c13d3b",
   "metadata": {},
   "outputs": [],
   "source": [
    "def tasizan (x=1 , y=2):\n",
    "    print(x + y)"
   ]
  },
  {
   "cell_type": "code",
   "execution_count": 5,
   "id": "78147edb-2d01-423b-9ea0-14cbf2d32c36",
   "metadata": {},
   "outputs": [
    {
     "name": "stdout",
     "output_type": "stream",
     "text": [
      "3\n"
     ]
    }
   ],
   "source": [
    "tasizan()"
   ]
  },
  {
   "cell_type": "code",
   "execution_count": null,
   "id": "40c9a591-ddea-4753-aa2f-c157ae187c64",
   "metadata": {},
   "outputs": [],
   "source": [
    "print(\"テスト3です\")"
   ]
  },
  {
   "cell_type": "markdown",
   "id": "70017bae-6c4f-412b-8ff6-06e1cf3134b3",
   "metadata": {},
   "source": [
    "# 担当(杉本さん) - 引き算をする関数を追加してください "
   ]
  },
  {
   "cell_type": "code",
   "execution_count": 2,
   "id": "75197d75-87c5-4231-9603-7995335e0bea",
   "metadata": {},
   "outputs": [],
   "source": [
    "def hikizan(x=3 ,y=1):\n",
    "    print(x -y)"
   ]
  },
  {
   "cell_type": "code",
   "execution_count": 10,
   "id": "782df7dd-175e-45cc-a10e-339722e4bbdf",
   "metadata": {},
   "outputs": [
    {
     "name": "stdout",
     "output_type": "stream",
     "text": [
      "2\n"
     ]
    }
   ],
   "source": [
    "hikizan()"
   ]
  },
  {
   "cell_type": "code",
   "execution_count": 3,
   "id": "73ad9f5e-c817-40c9-b32f-13c812d5cc0e",
   "metadata": {},
   "outputs": [
    {
     "name": "stdout",
     "output_type": "stream",
     "text": [
      "test2\n"
     ]
    }
   ],
   "source": [
    "print(\"test2\")"
   ]
  },
  {
   "cell_type": "code",
   "execution_count": null,
   "id": "d0d1be72-148a-441c-bb57-550bd56951fa",
   "metadata": {},
   "outputs": [],
   "source": []
  },
  {
   "cell_type": "markdown",
   "id": "ad06b4cd-abc0-431f-995f-9e588b1beb21",
   "metadata": {},
   "source": [
    "# 担当(豊田さん) - 掛け算をする関数を追加してください "
   ]
  },
  {
   "cell_type": "code",
   "execution_count": 3,
   "id": "50f6e88d-9608-46a4-88c2-7211b942e598",
   "metadata": {},
   "outputs": [],
   "source": [
    "def kakezan (x=1, y=2):\n",
    "    print(x * y)"
   ]
  },
  {
   "cell_type": "code",
   "execution_count": 2,
   "id": "7ac449cd-473d-4a6c-8b91-18034a8a8160",
   "metadata": {},
   "outputs": [
    {
     "name": "stdout",
     "output_type": "stream",
     "text": [
      "2\n"
     ]
    }
   ],
   "source": [
    "kakezan()"
   ]
  },
  {
   "cell_type": "code",
   "execution_count": null,
   "id": "9208ba52-71cb-495e-8786-ddd30e4c815a",
   "metadata": {},
   "outputs": [],
   "source": [
    "test"
   ]
  },
  {
   "cell_type": "markdown",
   "id": "6ff73374-5382-469a-adcc-4541a3b582e7",
   "metadata": {},
   "source": [
    "# 担当(西村さん) - 割り算をする関数を追加してください "
   ]
  },
  {
   "cell_type": "code",
   "execution_count": 4,
   "id": "c2f0857b-e159-4800-8747-f5566115f913",
   "metadata": {},
   "outputs": [],
   "source": [
    "def warizan(a,b):\n",
    "    print(a/b)"
   ]
  },
  {
   "cell_type": "code",
   "execution_count": 5,
   "id": "73ddf6de-114c-4aea-96a6-aa30ba10c00e",
   "metadata": {},
   "outputs": [
    {
     "name": "stdout",
     "output_type": "stream",
     "text": [
      "2.0\n"
     ]
    }
   ],
   "source": [
    "warizan(10,5)"
   ]
  },
  {
   "cell_type": "code",
   "execution_count": null,
   "id": "c6a5dcaf-f4a7-4580-9749-7eec150140cc",
   "metadata": {},
   "outputs": [],
   "source": [
    "print(warizan)"
   ]
  },
  {
   "cell_type": "markdown",
   "id": "60cb8210-d176-4d02-95b1-ed97af2cd225",
   "metadata": {},
   "source": [
    "# 担当(山本) - print()関数を使う "
   ]
  },
  {
   "cell_type": "code",
   "execution_count": null,
   "id": "a2717adf-7baf-420a-83a6-1c1cc2649128",
   "metadata": {},
   "outputs": [],
   "source": [
    "print(\"Hello World\")"
   ]
  },
  {
   "cell_type": "code",
   "execution_count": 1,
   "id": "18cc70f6-f233-4f8a-a70d-f66176449dcb",
   "metadata": {},
   "outputs": [
    {
     "name": "stdout",
     "output_type": "stream",
     "text": [
      "goodbye\n"
     ]
    }
   ],
   "source": [
    "print(\"goodbye\")"
   ]
  },
  {
   "cell_type": "code",
   "execution_count": 2,
   "id": "d34e82ac-e5c9-496a-b1c4-02f3421d7995",
   "metadata": {},
   "outputs": [
    {
     "name": "stdout",
     "output_type": "stream",
     "text": [
      "こんにちは\n"
     ]
    }
   ],
   "source": [
    "print(\"こんにちは\")"
   ]
  },
  {
   "cell_type": "code",
   "execution_count": null,
   "id": "a85b1c19-417a-418d-9c09-365112f5c2ad",
   "metadata": {},
   "outputs": [],
   "source": []
  },
  {
   "cell_type": "code",
   "execution_count": null,
   "id": "194547e6-f0a0-43f5-919b-75c12c2f20b5",
   "metadata": {},
   "outputs": [],
   "source": []
  },
  {
   "cell_type": "markdown",
   "id": "6108b285-f3ed-4a15-acf8-6142245569bb",
   "metadata": {},
   "source": [
    "### シンプル計算機を作る"
   ]
  },
  {
   "cell_type": "code",
   "execution_count": 5,
   "id": "ed391c56-5b6a-437b-aac6-765f05fd24c1",
   "metadata": {},
   "outputs": [],
   "source": [
    "def my_simple_calc(a=1, b=3, calc_type='a'):\n",
    "    \"\"\"\n",
    "    a: add - 足し算\n",
    "    s: subtract - 引き算\n",
    "    m: multiplication - 掛け算\n",
    "    d: division - 割り算\n",
    "    \"\"\"\n",
    "    if calc_type == 'a':\n",
    "        tasizan(a, b)\n",
    "    elif calc_type == 's':\n",
    "        hikizan(a, b)\n",
    "    elif calc_type == 'm':\n",
    "        kakezan(a, b)\n",
    "    elif calc_type == 'd':\n",
    "        if b == 0:\n",
    "            print(\"0で割ることはできません\")\n",
    "        else:\n",
    "            warizan(a, b)"
   ]
  },
  {
   "cell_type": "code",
   "execution_count": 6,
   "id": "f675aab3-c5b6-4914-bb3f-39f0a879f9a7",
   "metadata": {},
   "outputs": [
    {
     "name": "stdout",
     "output_type": "stream",
     "text": [
      "0で割ることはできません\n"
     ]
    }
   ],
   "source": [
    "my_simple_calc(10, 0, 'd')"
   ]
  },
  {
   "cell_type": "code",
   "execution_count": 7,
   "id": "a0667577-e231-4302-bae8-1ab8738611c1",
   "metadata": {},
   "outputs": [
    {
     "name": "stdout",
     "output_type": "stream",
     "text": [
      "30\n"
     ]
    }
   ],
   "source": [
    "my_simple_calc(10, 20, 'a')"
   ]
  },
  {
   "cell_type": "code",
   "execution_count": null,
   "id": "94d5589c-faca-48d0-bc4a-df87b7820862",
   "metadata": {},
   "outputs": [],
   "source": []
  },
  {
   "cell_type": "code",
   "execution_count": 1,
   "id": "989f8447-8b7a-4d39-818e-3a6ebccb6717",
   "metadata": {},
   "outputs": [
    {
     "name": "stdout",
     "output_type": "stream",
     "text": [
      "test\n"
     ]
    }
   ],
   "source": [
    "print(\"test\")"
   ]
  },
  {
   "cell_type": "code",
   "execution_count": null,
   "id": "d2b34c9e-0948-404d-b621-ad98b87fdcd2",
   "metadata": {},
   "outputs": [],
   "source": []
  }
 ],
 "metadata": {
  "kernelspec": {
   "display_name": "Python 3 (ipykernel)",
   "language": "python",
   "name": "python3"
  },
  "language_info": {
   "codemirror_mode": {
    "name": "ipython",
    "version": 3
   },
   "file_extension": ".py",
   "mimetype": "text/x-python",
   "name": "python",
   "nbconvert_exporter": "python",
   "pygments_lexer": "ipython3",
   "version": "3.8.12"
  }
 },
 "nbformat": 4,
 "nbformat_minor": 5
}
